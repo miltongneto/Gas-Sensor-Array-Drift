{
 "cells": [
  {
   "cell_type": "markdown",
   "metadata": {},
   "source": [
    "## Gas Sensor Array Drift - Modelagem"
   ]
  },
  {
   "cell_type": "code",
   "execution_count": 47,
   "metadata": {},
   "outputs": [],
   "source": [
    "import pandas as pd\n",
    "import numpy as np\n",
    "\n",
    "from sklearn.datasets import load_svmlight_file\n",
    "from sklearn.model_selection import train_test_split, StratifiedKFold, cross_val_score\n",
    "\n",
    "from sklearn.neighbors import KNeighborsClassifier\n",
    "from sklearn.tree import DecisionTreeClassifier\n",
    "from sklearn.ensemble import RandomForestClassifier, BaggingClassifier, VotingClassifier\n",
    "from sklearn.neural_network import MLPClassifier\n",
    "\n",
    "from sklearn.metrics import classification_report\n",
    "\n",
    "import matplotlib.pyplot as plt"
   ]
  },
  {
   "cell_type": "code",
   "execution_count": 9,
   "metadata": {},
   "outputs": [],
   "source": [
    "seed = 10"
   ]
  },
  {
   "cell_type": "markdown",
   "metadata": {},
   "source": [
    "### Leitura dos Dados"
   ]
  },
  {
   "cell_type": "code",
   "execution_count": 5,
   "metadata": {},
   "outputs": [],
   "source": [
    "dataset = pd.read_csv('../Dataset/dataset.csv')\n",
    "dataset_pca = pd.read_csv('../Dataset/dataset_pca.csv')"
   ]
  },
  {
   "cell_type": "code",
   "execution_count": 7,
   "metadata": {},
   "outputs": [
    {
     "name": "stdout",
     "output_type": "stream",
     "text": [
      "(13910, 129)\n"
     ]
    },
    {
     "data": {
      "text/html": [
       "<div>\n",
       "<style scoped>\n",
       "    .dataframe tbody tr th:only-of-type {\n",
       "        vertical-align: middle;\n",
       "    }\n",
       "\n",
       "    .dataframe tbody tr th {\n",
       "        vertical-align: top;\n",
       "    }\n",
       "\n",
       "    .dataframe thead th {\n",
       "        text-align: right;\n",
       "    }\n",
       "</style>\n",
       "<table border=\"1\" class=\"dataframe\">\n",
       "  <thead>\n",
       "    <tr style=\"text-align: right;\">\n",
       "      <th></th>\n",
       "      <th>0</th>\n",
       "      <th>1</th>\n",
       "      <th>2</th>\n",
       "      <th>3</th>\n",
       "      <th>4</th>\n",
       "      <th>5</th>\n",
       "      <th>6</th>\n",
       "      <th>7</th>\n",
       "      <th>8</th>\n",
       "      <th>9</th>\n",
       "      <th>...</th>\n",
       "      <th>119</th>\n",
       "      <th>120</th>\n",
       "      <th>121</th>\n",
       "      <th>122</th>\n",
       "      <th>123</th>\n",
       "      <th>124</th>\n",
       "      <th>125</th>\n",
       "      <th>126</th>\n",
       "      <th>127</th>\n",
       "      <th>target</th>\n",
       "    </tr>\n",
       "  </thead>\n",
       "  <tbody>\n",
       "    <tr>\n",
       "      <th>0</th>\n",
       "      <td>-0.905872</td>\n",
       "      <td>-0.997343</td>\n",
       "      <td>-0.971612</td>\n",
       "      <td>-0.975257</td>\n",
       "      <td>-0.984879</td>\n",
       "      <td>0.958387</td>\n",
       "      <td>0.795490</td>\n",
       "      <td>0.865034</td>\n",
       "      <td>-0.878662</td>\n",
       "      <td>-0.998106</td>\n",
       "      <td>...</td>\n",
       "      <td>0.941052</td>\n",
       "      <td>-0.784112</td>\n",
       "      <td>-0.854664</td>\n",
       "      <td>-0.967450</td>\n",
       "      <td>-0.995176</td>\n",
       "      <td>-0.986399</td>\n",
       "      <td>0.964157</td>\n",
       "      <td>0.763942</td>\n",
       "      <td>0.947373</td>\n",
       "      <td>1.0</td>\n",
       "    </tr>\n",
       "    <tr>\n",
       "      <th>1</th>\n",
       "      <td>-0.874435</td>\n",
       "      <td>-0.996351</td>\n",
       "      <td>-0.935227</td>\n",
       "      <td>-0.942549</td>\n",
       "      <td>-0.984585</td>\n",
       "      <td>0.928190</td>\n",
       "      <td>0.775693</td>\n",
       "      <td>0.862033</td>\n",
       "      <td>-0.845751</td>\n",
       "      <td>-0.997632</td>\n",
       "      <td>...</td>\n",
       "      <td>0.945275</td>\n",
       "      <td>-0.762410</td>\n",
       "      <td>-0.840881</td>\n",
       "      <td>-0.939320</td>\n",
       "      <td>-0.989122</td>\n",
       "      <td>-0.981219</td>\n",
       "      <td>0.941361</td>\n",
       "      <td>0.751117</td>\n",
       "      <td>0.951699</td>\n",
       "      <td>1.0</td>\n",
       "    </tr>\n",
       "    <tr>\n",
       "      <th>2</th>\n",
       "      <td>-0.828754</td>\n",
       "      <td>-0.994975</td>\n",
       "      <td>-0.901866</td>\n",
       "      <td>-0.907260</td>\n",
       "      <td>-0.976629</td>\n",
       "      <td>0.883323</td>\n",
       "      <td>0.746385</td>\n",
       "      <td>0.856738</td>\n",
       "      <td>-0.792863</td>\n",
       "      <td>-0.996824</td>\n",
       "      <td>...</td>\n",
       "      <td>0.941742</td>\n",
       "      <td>-0.729302</td>\n",
       "      <td>-0.791153</td>\n",
       "      <td>-0.912999</td>\n",
       "      <td>-0.983409</td>\n",
       "      <td>-0.970060</td>\n",
       "      <td>0.911878</td>\n",
       "      <td>0.730715</td>\n",
       "      <td>0.948836</td>\n",
       "      <td>1.0</td>\n",
       "    </tr>\n",
       "    <tr>\n",
       "      <th>3</th>\n",
       "      <td>-0.826652</td>\n",
       "      <td>-0.994980</td>\n",
       "      <td>-0.854993</td>\n",
       "      <td>-0.856440</td>\n",
       "      <td>-0.919666</td>\n",
       "      <td>0.880565</td>\n",
       "      <td>0.744694</td>\n",
       "      <td>0.857085</td>\n",
       "      <td>-0.789712</td>\n",
       "      <td>-0.996811</td>\n",
       "      <td>...</td>\n",
       "      <td>0.940969</td>\n",
       "      <td>-0.724868</td>\n",
       "      <td>-0.786506</td>\n",
       "      <td>-0.877101</td>\n",
       "      <td>-0.976055</td>\n",
       "      <td>-0.959714</td>\n",
       "      <td>0.905411</td>\n",
       "      <td>0.726073</td>\n",
       "      <td>0.948164</td>\n",
       "      <td>1.0</td>\n",
       "    </tr>\n",
       "    <tr>\n",
       "      <th>4</th>\n",
       "      <td>-0.782066</td>\n",
       "      <td>-0.993870</td>\n",
       "      <td>-0.862880</td>\n",
       "      <td>-0.861308</td>\n",
       "      <td>-0.964463</td>\n",
       "      <td>0.831314</td>\n",
       "      <td>0.713546</td>\n",
       "      <td>0.852045</td>\n",
       "      <td>-0.737248</td>\n",
       "      <td>-0.996058</td>\n",
       "      <td>...</td>\n",
       "      <td>0.936418</td>\n",
       "      <td>-0.686562</td>\n",
       "      <td>-0.711911</td>\n",
       "      <td>-0.876364</td>\n",
       "      <td>-0.974309</td>\n",
       "      <td>-0.956094</td>\n",
       "      <td>0.872440</td>\n",
       "      <td>0.702171</td>\n",
       "      <td>0.940519</td>\n",
       "      <td>1.0</td>\n",
       "    </tr>\n",
       "  </tbody>\n",
       "</table>\n",
       "<p>5 rows × 129 columns</p>\n",
       "</div>"
      ],
      "text/plain": [
       "          0         1         2         3         4         5         6  \\\n",
       "0 -0.905872 -0.997343 -0.971612 -0.975257 -0.984879  0.958387  0.795490   \n",
       "1 -0.874435 -0.996351 -0.935227 -0.942549 -0.984585  0.928190  0.775693   \n",
       "2 -0.828754 -0.994975 -0.901866 -0.907260 -0.976629  0.883323  0.746385   \n",
       "3 -0.826652 -0.994980 -0.854993 -0.856440 -0.919666  0.880565  0.744694   \n",
       "4 -0.782066 -0.993870 -0.862880 -0.861308 -0.964463  0.831314  0.713546   \n",
       "\n",
       "          7         8         9  ...       119       120       121       122  \\\n",
       "0  0.865034 -0.878662 -0.998106  ...  0.941052 -0.784112 -0.854664 -0.967450   \n",
       "1  0.862033 -0.845751 -0.997632  ...  0.945275 -0.762410 -0.840881 -0.939320   \n",
       "2  0.856738 -0.792863 -0.996824  ...  0.941742 -0.729302 -0.791153 -0.912999   \n",
       "3  0.857085 -0.789712 -0.996811  ...  0.940969 -0.724868 -0.786506 -0.877101   \n",
       "4  0.852045 -0.737248 -0.996058  ...  0.936418 -0.686562 -0.711911 -0.876364   \n",
       "\n",
       "        123       124       125       126       127  target  \n",
       "0 -0.995176 -0.986399  0.964157  0.763942  0.947373     1.0  \n",
       "1 -0.989122 -0.981219  0.941361  0.751117  0.951699     1.0  \n",
       "2 -0.983409 -0.970060  0.911878  0.730715  0.948836     1.0  \n",
       "3 -0.976055 -0.959714  0.905411  0.726073  0.948164     1.0  \n",
       "4 -0.974309 -0.956094  0.872440  0.702171  0.940519     1.0  \n",
       "\n",
       "[5 rows x 129 columns]"
      ]
     },
     "execution_count": 7,
     "metadata": {},
     "output_type": "execute_result"
    }
   ],
   "source": [
    "print(dataset.shape)\n",
    "dataset.head()"
   ]
  },
  {
   "cell_type": "markdown",
   "metadata": {},
   "source": [
    "## Separação dos dados"
   ]
  },
  {
   "cell_type": "code",
   "execution_count": 21,
   "metadata": {},
   "outputs": [],
   "source": [
    "X = dataset.drop('target', axis=1)\n",
    "y = dataset.loc[:,'target']"
   ]
  },
  {
   "cell_type": "code",
   "execution_count": 22,
   "metadata": {},
   "outputs": [],
   "source": [
    "X_train, X_test, y_train, y_test = train_test_split(X, y, test_size=0.25, random_state=seed)"
   ]
  },
  {
   "cell_type": "markdown",
   "metadata": {},
   "source": [
    "## Classificação"
   ]
  },
  {
   "cell_type": "code",
   "execution_count": 86,
   "metadata": {},
   "outputs": [],
   "source": [
    "kfold = StratifiedKFold(n_splits=10, random_state=seed)"
   ]
  },
  {
   "cell_type": "markdown",
   "metadata": {},
   "source": [
    "### k-NN"
   ]
  },
  {
   "cell_type": "markdown",
   "metadata": {},
   "source": [
    "### Sem PCA "
   ]
  },
  {
   "cell_type": "code",
   "execution_count": 24,
   "metadata": {},
   "outputs": [
    {
     "name": "stdout",
     "output_type": "stream",
     "text": [
      "Início dos classificadores de individuais (KNN, DT, RANDOMFOREST, MLP)\n",
      "\n",
      "Score: 0.99252443933295\n",
      "Relatorio de Classificação do modelo inicial (kNN)\n",
      "              precision    recall  f1-score   support\n",
      "\n",
      "         1.0       0.99      0.99      0.99       653\n",
      "         2.0       0.99      0.99      0.99       733\n",
      "         3.0       1.00      0.99      0.99       401\n",
      "         4.0       0.99      0.99      0.99       504\n",
      "         5.0       0.99      1.00      0.99       741\n",
      "         6.0       1.00      0.99      1.00       446\n",
      "\n",
      "   micro avg       0.99      0.99      0.99      3478\n",
      "   macro avg       0.99      0.99      0.99      3478\n",
      "weighted avg       0.99      0.99      0.99      3478\n",
      " \n",
      "\n"
     ]
    }
   ],
   "source": [
    "print(\"Início dos classificadores de individuais (KNN, DT, RANDOMFOREST, MLP)\\n\")\n",
    "# Criação dos classificadores\n",
    "# KNN\n",
    "clf_knn = KNeighborsClassifier(n_neighbors=5)\n",
    "clf_knn = clf_knn.fit(X_train, y_train)\n",
    "pred_knn = clf_knn.predict(X_test)\n",
    "\n",
    "scores = cross_val_score(clf_knn, X, y, cv=kfold)\n",
    "\n",
    "print('Score:', clf_knn.score(X_test, y_test))\n",
    "# Imprimindo relatório de classificação do modelo inicial\n",
    "print(\"Relatorio de Classificação do modelo inicial (kNN)\")\n",
    "print(classification_report(y_test, pred_knn), \"\\n\")"
   ]
  },
  {
   "cell_type": "code",
   "execution_count": 97,
   "metadata": {},
   "outputs": [
    {
     "name": "stdout",
     "output_type": "stream",
     "text": [
      "Acuracia - KNN: k =  1, metric = euclidean, scores: 0.995\n",
      "Acuracia - KNN: k =  1, metric = manhattan, scores: 0.996\n",
      "Acuracia - KNN: k =  1, metric = chebyshev, scores: 0.992\n",
      "Acuracia - KNN: k =  2, metric = euclidean, scores: 0.994\n",
      "Acuracia - KNN: k =  2, metric = manhattan, scores: 0.995\n",
      "Acuracia - KNN: k =  2, metric = chebyshev, scores: 0.989\n",
      "Acuracia - KNN: k =  3, metric = euclidean, scores: 0.993\n",
      "Acuracia - KNN: k =  3, metric = manhattan, scores: 0.995\n",
      "Acuracia - KNN: k =  3, metric = chebyshev, scores: 0.988\n",
      "Acuracia - KNN: k =  4, metric = euclidean, scores: 0.992\n",
      "Acuracia - KNN: k =  4, metric = manhattan, scores: 0.994\n",
      "Acuracia - KNN: k =  4, metric = chebyshev, scores: 0.987\n",
      "Acuracia - KNN: k =  5, metric = euclidean, scores: 0.991\n",
      "Acuracia - KNN: k =  5, metric = manhattan, scores: 0.993\n",
      "Acuracia - KNN: k =  5, metric = chebyshev, scores: 0.986\n",
      "Acuracia - KNN: k =  6, metric = euclidean, scores: 0.990\n",
      "Acuracia - KNN: k =  6, metric = manhattan, scores: 0.992\n",
      "Acuracia - KNN: k =  6, metric = chebyshev, scores: 0.984\n",
      "Acuracia - KNN: k =  7, metric = euclidean, scores: 0.989\n",
      "Acuracia - KNN: k =  7, metric = manhattan, scores: 0.991\n",
      "Acuracia - KNN: k =  7, metric = chebyshev, scores: 0.982\n",
      "Acuracia - KNN: k =  8, metric = euclidean, scores: 0.988\n",
      "Acuracia - KNN: k =  8, metric = manhattan, scores: 0.990\n",
      "Acuracia - KNN: k =  8, metric = chebyshev, scores: 0.981\n",
      "Acuracia - KNN: k =  9, metric = euclidean, scores: 0.987\n",
      "Acuracia - KNN: k =  9, metric = manhattan, scores: 0.990\n",
      "Acuracia - KNN: k =  9, metric = chebyshev, scores: 0.980\n",
      "Acuracia - KNN: k = 10, metric = euclidean, scores: 0.986\n",
      "Acuracia - KNN: k = 10, metric = manhattan, scores: 0.988\n",
      "Acuracia - KNN: k = 10, metric = chebyshev, scores: 0.979\n"
     ]
    }
   ],
   "source": [
    "results = []\n",
    "for k in range(1, 11):\n",
    "    for metric in ['euclidean', 'manhattan', 'chebyshev']:\n",
    "        params = {'n_neighbors': k, 'metric': metric}\n",
    "        \n",
    "        clf_knn = KNeighborsClassifier(**params)\n",
    "        \n",
    "        scores = cross_val_score(clf_knn, X_train, y_train, cv=kfold)\n",
    "        scores_mean = scores.mean()\n",
    "        scores_std = scores.std()\n",
    "        \n",
    "        results.append((params, scores_mean, scores_std))\n",
    "        \n",
    "        print('Acuracia - KNN: k = %2d, metric = %s, scores: %0.3f' % (k, metric, scores_mean))"
   ]
  },
  {
   "cell_type": "code",
   "execution_count": 98,
   "metadata": {},
   "outputs": [
    {
     "data": {
      "text/plain": [
       "array([{'n_neighbors': 1, 'metric': 'manhattan'}, 0.9960687459155222,\n",
       "       0.001389698920687762], dtype=object)"
      ]
     },
     "execution_count": 98,
     "metadata": {},
     "output_type": "execute_result"
    }
   ],
   "source": [
    "results = np.array(results)\n",
    "idx_best_result = results[:, 1].argmax()\n",
    "results[idx_best_result]"
   ]
  },
  {
   "cell_type": "markdown",
   "metadata": {},
   "source": [
    "### Com PCA"
   ]
  },
  {
   "cell_type": "code",
   "execution_count": 99,
   "metadata": {},
   "outputs": [],
   "source": [
    "X = dataset_pca.drop('target', axis=1)\n",
    "y = dataset_pca.loc[:,'target']\n",
    "X_train, X_test, y_train, y_test = train_test_split(X, y, test_size=0.25, random_state=seed)"
   ]
  },
  {
   "cell_type": "code",
   "execution_count": 100,
   "metadata": {},
   "outputs": [
    {
     "name": "stdout",
     "output_type": "stream",
     "text": [
      "Acuracia - KNN: k =  1, metric = euclidean, scores: 0.995\n",
      "Acuracia - KNN: k =  1, metric = manhattan, scores: 0.996\n",
      "Acuracia - KNN: k =  1, metric = chebyshev, scores: 0.993\n",
      "Acuracia - KNN: k =  2, metric = euclidean, scores: 0.994\n",
      "Acuracia - KNN: k =  2, metric = manhattan, scores: 0.995\n",
      "Acuracia - KNN: k =  2, metric = chebyshev, scores: 0.992\n",
      "Acuracia - KNN: k =  3, metric = euclidean, scores: 0.993\n",
      "Acuracia - KNN: k =  3, metric = manhattan, scores: 0.995\n",
      "Acuracia - KNN: k =  3, metric = chebyshev, scores: 0.991\n",
      "Acuracia - KNN: k =  4, metric = euclidean, scores: 0.992\n",
      "Acuracia - KNN: k =  4, metric = manhattan, scores: 0.994\n",
      "Acuracia - KNN: k =  4, metric = chebyshev, scores: 0.989\n",
      "Acuracia - KNN: k =  5, metric = euclidean, scores: 0.991\n",
      "Acuracia - KNN: k =  5, metric = manhattan, scores: 0.993\n",
      "Acuracia - KNN: k =  5, metric = chebyshev, scores: 0.987\n",
      "Acuracia - KNN: k =  6, metric = euclidean, scores: 0.990\n",
      "Acuracia - KNN: k =  6, metric = manhattan, scores: 0.993\n",
      "Acuracia - KNN: k =  6, metric = chebyshev, scores: 0.986\n",
      "Acuracia - KNN: k =  7, metric = euclidean, scores: 0.989\n",
      "Acuracia - KNN: k =  7, metric = manhattan, scores: 0.992\n",
      "Acuracia - KNN: k =  7, metric = chebyshev, scores: 0.984\n",
      "Acuracia - KNN: k =  8, metric = euclidean, scores: 0.988\n",
      "Acuracia - KNN: k =  8, metric = manhattan, scores: 0.991\n",
      "Acuracia - KNN: k =  8, metric = chebyshev, scores: 0.982\n",
      "Acuracia - KNN: k =  9, metric = euclidean, scores: 0.988\n",
      "Acuracia - KNN: k =  9, metric = manhattan, scores: 0.991\n",
      "Acuracia - KNN: k =  9, metric = chebyshev, scores: 0.981\n",
      "Acuracia - KNN: k = 10, metric = euclidean, scores: 0.986\n",
      "Acuracia - KNN: k = 10, metric = manhattan, scores: 0.990\n",
      "Acuracia - KNN: k = 10, metric = chebyshev, scores: 0.979\n"
     ]
    }
   ],
   "source": [
    "results = []\n",
    "for k in range(1, 11):\n",
    "    for metric in ['euclidean', 'manhattan', 'chebyshev']:\n",
    "        params = {'n_neighbors': k, 'metric': metric}\n",
    "        \n",
    "        clf_knn = KNeighborsClassifier(**params)\n",
    "        \n",
    "        scores = cross_val_score(clf_knn, X_train, y_train, cv=kfold)\n",
    "        scores_mean = scores.mean()\n",
    "        scores_std = scores.std()\n",
    "        \n",
    "        results.append((params, scores_mean, scores_std))\n",
    "        \n",
    "        print('Acuracia - KNN: k = %2d, metric = %s, scores: %0.3f' % (k, metric, scores_mean))"
   ]
  },
  {
   "cell_type": "code",
   "execution_count": 101,
   "metadata": {},
   "outputs": [
    {
     "data": {
      "text/plain": [
       "array([{'n_neighbors': 1, 'metric': 'manhattan'}, 0.9958774482577667,\n",
       "       0.002190101118254926], dtype=object)"
      ]
     },
     "execution_count": 101,
     "metadata": {},
     "output_type": "execute_result"
    }
   ],
   "source": [
    "results = np.array(results)\n",
    "idx_best_result = results[:, 1].argmax()\n",
    "results[idx_best_result]"
   ]
  }
 ],
 "metadata": {
  "kernelspec": {
   "display_name": "Python 3",
   "language": "python",
   "name": "python3"
  },
  "language_info": {
   "codemirror_mode": {
    "name": "ipython",
    "version": 3
   },
   "file_extension": ".py",
   "mimetype": "text/x-python",
   "name": "python",
   "nbconvert_exporter": "python",
   "pygments_lexer": "ipython3",
   "version": "3.7.3"
  }
 },
 "nbformat": 4,
 "nbformat_minor": 2
}
