{
 "cells": [
  {
   "cell_type": "markdown",
   "metadata": {},
   "source": [
    "## Gas Sensor Array Drift - Modelagem"
   ]
  },
  {
   "cell_type": "code",
   "execution_count": 1,
   "metadata": {},
   "outputs": [],
   "source": [
    "import pandas as pd\n",
    "import numpy as np\n",
    "\n",
    "from sklearn.datasets import load_svmlight_file\n",
    "from sklearn.model_selection import train_test_split, StratifiedKFold, cross_val_score\n",
    "\n",
    "from sklearn.neighbors import KNeighborsClassifier\n",
    "from sklearn.tree import DecisionTreeClassifier\n",
    "from sklearn.ensemble import RandomForestClassifier, BaggingClassifier, VotingClassifier\n",
    "from sklearn.neural_network import MLPClassifier\n",
    "\n",
    "from sklearn.metrics import classification_report\n",
    "\n",
    "import matplotlib.pyplot as plt"
   ]
  },
  {
   "cell_type": "code",
   "execution_count": 2,
   "metadata": {},
   "outputs": [],
   "source": [
    "seed = 10"
   ]
  },
  {
   "cell_type": "markdown",
   "metadata": {},
   "source": [
    "### Leitura dos Dados"
   ]
  },
  {
   "cell_type": "code",
   "execution_count": 3,
   "metadata": {},
   "outputs": [],
   "source": [
    "dataset = pd.read_csv('../Dataset/dataset.csv')\n",
    "dataset_pca = pd.read_csv('../Dataset/dataset_pca.csv')"
   ]
  },
  {
   "cell_type": "code",
   "execution_count": 4,
   "metadata": {},
   "outputs": [
    {
     "name": "stdout",
     "output_type": "stream",
     "text": [
      "(13910, 129)\n"
     ]
    },
    {
     "data": {
      "text/html": [
       "<div>\n",
       "<style scoped>\n",
       "    .dataframe tbody tr th:only-of-type {\n",
       "        vertical-align: middle;\n",
       "    }\n",
       "\n",
       "    .dataframe tbody tr th {\n",
       "        vertical-align: top;\n",
       "    }\n",
       "\n",
       "    .dataframe thead th {\n",
       "        text-align: right;\n",
       "    }\n",
       "</style>\n",
       "<table border=\"1\" class=\"dataframe\">\n",
       "  <thead>\n",
       "    <tr style=\"text-align: right;\">\n",
       "      <th></th>\n",
       "      <th>0</th>\n",
       "      <th>1</th>\n",
       "      <th>2</th>\n",
       "      <th>3</th>\n",
       "      <th>4</th>\n",
       "      <th>5</th>\n",
       "      <th>6</th>\n",
       "      <th>7</th>\n",
       "      <th>8</th>\n",
       "      <th>9</th>\n",
       "      <th>...</th>\n",
       "      <th>119</th>\n",
       "      <th>120</th>\n",
       "      <th>121</th>\n",
       "      <th>122</th>\n",
       "      <th>123</th>\n",
       "      <th>124</th>\n",
       "      <th>125</th>\n",
       "      <th>126</th>\n",
       "      <th>127</th>\n",
       "      <th>target</th>\n",
       "    </tr>\n",
       "  </thead>\n",
       "  <tbody>\n",
       "    <tr>\n",
       "      <th>0</th>\n",
       "      <td>-0.905872</td>\n",
       "      <td>-0.997343</td>\n",
       "      <td>-0.971612</td>\n",
       "      <td>-0.975257</td>\n",
       "      <td>-0.984879</td>\n",
       "      <td>0.958387</td>\n",
       "      <td>0.795490</td>\n",
       "      <td>0.865034</td>\n",
       "      <td>-0.878662</td>\n",
       "      <td>-0.998106</td>\n",
       "      <td>...</td>\n",
       "      <td>0.941052</td>\n",
       "      <td>-0.784112</td>\n",
       "      <td>-0.854664</td>\n",
       "      <td>-0.967450</td>\n",
       "      <td>-0.995176</td>\n",
       "      <td>-0.986399</td>\n",
       "      <td>0.964157</td>\n",
       "      <td>0.763942</td>\n",
       "      <td>0.947373</td>\n",
       "      <td>1.0</td>\n",
       "    </tr>\n",
       "    <tr>\n",
       "      <th>1</th>\n",
       "      <td>-0.874435</td>\n",
       "      <td>-0.996351</td>\n",
       "      <td>-0.935227</td>\n",
       "      <td>-0.942549</td>\n",
       "      <td>-0.984585</td>\n",
       "      <td>0.928190</td>\n",
       "      <td>0.775693</td>\n",
       "      <td>0.862033</td>\n",
       "      <td>-0.845751</td>\n",
       "      <td>-0.997632</td>\n",
       "      <td>...</td>\n",
       "      <td>0.945275</td>\n",
       "      <td>-0.762410</td>\n",
       "      <td>-0.840881</td>\n",
       "      <td>-0.939320</td>\n",
       "      <td>-0.989122</td>\n",
       "      <td>-0.981219</td>\n",
       "      <td>0.941361</td>\n",
       "      <td>0.751117</td>\n",
       "      <td>0.951699</td>\n",
       "      <td>1.0</td>\n",
       "    </tr>\n",
       "    <tr>\n",
       "      <th>2</th>\n",
       "      <td>-0.828754</td>\n",
       "      <td>-0.994975</td>\n",
       "      <td>-0.901866</td>\n",
       "      <td>-0.907260</td>\n",
       "      <td>-0.976629</td>\n",
       "      <td>0.883323</td>\n",
       "      <td>0.746385</td>\n",
       "      <td>0.856738</td>\n",
       "      <td>-0.792863</td>\n",
       "      <td>-0.996824</td>\n",
       "      <td>...</td>\n",
       "      <td>0.941742</td>\n",
       "      <td>-0.729302</td>\n",
       "      <td>-0.791153</td>\n",
       "      <td>-0.912999</td>\n",
       "      <td>-0.983409</td>\n",
       "      <td>-0.970060</td>\n",
       "      <td>0.911878</td>\n",
       "      <td>0.730715</td>\n",
       "      <td>0.948836</td>\n",
       "      <td>1.0</td>\n",
       "    </tr>\n",
       "    <tr>\n",
       "      <th>3</th>\n",
       "      <td>-0.826652</td>\n",
       "      <td>-0.994980</td>\n",
       "      <td>-0.854993</td>\n",
       "      <td>-0.856440</td>\n",
       "      <td>-0.919666</td>\n",
       "      <td>0.880565</td>\n",
       "      <td>0.744694</td>\n",
       "      <td>0.857085</td>\n",
       "      <td>-0.789712</td>\n",
       "      <td>-0.996811</td>\n",
       "      <td>...</td>\n",
       "      <td>0.940969</td>\n",
       "      <td>-0.724868</td>\n",
       "      <td>-0.786506</td>\n",
       "      <td>-0.877101</td>\n",
       "      <td>-0.976055</td>\n",
       "      <td>-0.959714</td>\n",
       "      <td>0.905411</td>\n",
       "      <td>0.726073</td>\n",
       "      <td>0.948164</td>\n",
       "      <td>1.0</td>\n",
       "    </tr>\n",
       "    <tr>\n",
       "      <th>4</th>\n",
       "      <td>-0.782066</td>\n",
       "      <td>-0.993870</td>\n",
       "      <td>-0.862880</td>\n",
       "      <td>-0.861308</td>\n",
       "      <td>-0.964463</td>\n",
       "      <td>0.831314</td>\n",
       "      <td>0.713546</td>\n",
       "      <td>0.852045</td>\n",
       "      <td>-0.737248</td>\n",
       "      <td>-0.996058</td>\n",
       "      <td>...</td>\n",
       "      <td>0.936418</td>\n",
       "      <td>-0.686562</td>\n",
       "      <td>-0.711911</td>\n",
       "      <td>-0.876364</td>\n",
       "      <td>-0.974309</td>\n",
       "      <td>-0.956094</td>\n",
       "      <td>0.872440</td>\n",
       "      <td>0.702171</td>\n",
       "      <td>0.940519</td>\n",
       "      <td>1.0</td>\n",
       "    </tr>\n",
       "  </tbody>\n",
       "</table>\n",
       "<p>5 rows × 129 columns</p>\n",
       "</div>"
      ],
      "text/plain": [
       "          0         1         2         3         4         5         6  \\\n",
       "0 -0.905872 -0.997343 -0.971612 -0.975257 -0.984879  0.958387  0.795490   \n",
       "1 -0.874435 -0.996351 -0.935227 -0.942549 -0.984585  0.928190  0.775693   \n",
       "2 -0.828754 -0.994975 -0.901866 -0.907260 -0.976629  0.883323  0.746385   \n",
       "3 -0.826652 -0.994980 -0.854993 -0.856440 -0.919666  0.880565  0.744694   \n",
       "4 -0.782066 -0.993870 -0.862880 -0.861308 -0.964463  0.831314  0.713546   \n",
       "\n",
       "          7         8         9  ...       119       120       121       122  \\\n",
       "0  0.865034 -0.878662 -0.998106  ...  0.941052 -0.784112 -0.854664 -0.967450   \n",
       "1  0.862033 -0.845751 -0.997632  ...  0.945275 -0.762410 -0.840881 -0.939320   \n",
       "2  0.856738 -0.792863 -0.996824  ...  0.941742 -0.729302 -0.791153 -0.912999   \n",
       "3  0.857085 -0.789712 -0.996811  ...  0.940969 -0.724868 -0.786506 -0.877101   \n",
       "4  0.852045 -0.737248 -0.996058  ...  0.936418 -0.686562 -0.711911 -0.876364   \n",
       "\n",
       "        123       124       125       126       127  target  \n",
       "0 -0.995176 -0.986399  0.964157  0.763942  0.947373     1.0  \n",
       "1 -0.989122 -0.981219  0.941361  0.751117  0.951699     1.0  \n",
       "2 -0.983409 -0.970060  0.911878  0.730715  0.948836     1.0  \n",
       "3 -0.976055 -0.959714  0.905411  0.726073  0.948164     1.0  \n",
       "4 -0.974309 -0.956094  0.872440  0.702171  0.940519     1.0  \n",
       "\n",
       "[5 rows x 129 columns]"
      ]
     },
     "execution_count": 4,
     "metadata": {},
     "output_type": "execute_result"
    }
   ],
   "source": [
    "print(dataset.shape)\n",
    "dataset.head()"
   ]
  },
  {
   "cell_type": "markdown",
   "metadata": {},
   "source": [
    "## Separação dos dados"
   ]
  },
  {
   "cell_type": "code",
   "execution_count": 5,
   "metadata": {},
   "outputs": [],
   "source": [
    "X = dataset.drop('target', axis=1)\n",
    "y = dataset.loc[:,'target']"
   ]
  },
  {
   "cell_type": "code",
   "execution_count": 143,
   "metadata": {},
   "outputs": [],
   "source": [
    "X_train, X_test, y_train, y_test = train_test_split(X, y, test_size=0.25, random_state=seed)"
   ]
  },
  {
   "cell_type": "markdown",
   "metadata": {},
   "source": [
    "## Classificação"
   ]
  },
  {
   "cell_type": "code",
   "execution_count": 10,
   "metadata": {},
   "outputs": [],
   "source": [
    "kfold = StratifiedKFold(n_splits=10, random_state=seed)"
   ]
  },
  {
   "cell_type": "markdown",
   "metadata": {},
   "source": [
    "### k-NN"
   ]
  },
  {
   "cell_type": "markdown",
   "metadata": {},
   "source": [
    "### Sem PCA "
   ]
  },
  {
   "cell_type": "code",
   "execution_count": 146,
   "metadata": {},
   "outputs": [
    {
     "name": "stdout",
     "output_type": "stream",
     "text": [
      "Acuracia - KNN: k =  1, metric = euclidean, scores: 0.995\n",
      "Acuracia - KNN: k =  1, metric = manhattan, scores: 0.996\n",
      "Acuracia - KNN: k =  1, metric = chebyshev, scores: 0.992\n",
      "Acuracia - KNN: k =  2, metric = euclidean, scores: 0.994\n",
      "Acuracia - KNN: k =  2, metric = manhattan, scores: 0.995\n",
      "Acuracia - KNN: k =  2, metric = chebyshev, scores: 0.989\n",
      "Acuracia - KNN: k =  3, metric = euclidean, scores: 0.993\n",
      "Acuracia - KNN: k =  3, metric = manhattan, scores: 0.995\n",
      "Acuracia - KNN: k =  3, metric = chebyshev, scores: 0.988\n",
      "Acuracia - KNN: k =  4, metric = euclidean, scores: 0.992\n",
      "Acuracia - KNN: k =  4, metric = manhattan, scores: 0.994\n",
      "Acuracia - KNN: k =  4, metric = chebyshev, scores: 0.987\n",
      "Acuracia - KNN: k =  5, metric = euclidean, scores: 0.991\n",
      "Acuracia - KNN: k =  5, metric = manhattan, scores: 0.993\n",
      "Acuracia - KNN: k =  5, metric = chebyshev, scores: 0.986\n",
      "Acuracia - KNN: k =  6, metric = euclidean, scores: 0.990\n",
      "Acuracia - KNN: k =  6, metric = manhattan, scores: 0.992\n",
      "Acuracia - KNN: k =  6, metric = chebyshev, scores: 0.984\n",
      "Acuracia - KNN: k =  7, metric = euclidean, scores: 0.989\n",
      "Acuracia - KNN: k =  7, metric = manhattan, scores: 0.991\n",
      "Acuracia - KNN: k =  7, metric = chebyshev, scores: 0.982\n",
      "Acuracia - KNN: k =  8, metric = euclidean, scores: 0.988\n",
      "Acuracia - KNN: k =  8, metric = manhattan, scores: 0.990\n",
      "Acuracia - KNN: k =  8, metric = chebyshev, scores: 0.981\n",
      "Acuracia - KNN: k =  9, metric = euclidean, scores: 0.987\n",
      "Acuracia - KNN: k =  9, metric = manhattan, scores: 0.990\n",
      "Acuracia - KNN: k =  9, metric = chebyshev, scores: 0.980\n",
      "Acuracia - KNN: k = 10, metric = euclidean, scores: 0.986\n",
      "Acuracia - KNN: k = 10, metric = manhattan, scores: 0.988\n",
      "Acuracia - KNN: k = 10, metric = chebyshev, scores: 0.979\n"
     ]
    }
   ],
   "source": [
    "results = []\n",
    "for k in range(1, 11):\n",
    "    for metric in ['euclidean', 'manhattan', 'chebyshev']:\n",
    "        params = {'n_neighbors': k, 'metric': metric}\n",
    "        \n",
    "        clf_knn = KNeighborsClassifier(**params)\n",
    "        \n",
    "        scores = cross_val_score(clf_knn, X_train, y_train, cv=kfold)\n",
    "        scores_mean = scores.mean()\n",
    "        scores_std = scores.std()\n",
    "        \n",
    "        results.append((params, scores_mean, scores_std))\n",
    "        \n",
    "        print('Acuracia - KNN: k = %2d, metric = %s, scores: %0.3f' % (k, metric, scores_mean))"
   ]
  },
  {
   "cell_type": "code",
   "execution_count": 147,
   "metadata": {},
   "outputs": [
    {
     "data": {
      "text/plain": [
       "array([{'n_neighbors': 1, 'metric': 'manhattan'}, 0.9960687459155222,\n",
       "       0.001389698920687762], dtype=object)"
      ]
     },
     "execution_count": 147,
     "metadata": {},
     "output_type": "execute_result"
    }
   ],
   "source": [
    "results = np.array(results)\n",
    "idx_best_result = results[:, 1].argmax()\n",
    "results[idx_best_result]"
   ]
  },
  {
   "cell_type": "code",
   "execution_count": 148,
   "metadata": {},
   "outputs": [
    {
     "data": {
      "text/html": [
       "<div>\n",
       "<style scoped>\n",
       "    .dataframe tbody tr th:only-of-type {\n",
       "        vertical-align: middle;\n",
       "    }\n",
       "\n",
       "    .dataframe tbody tr th {\n",
       "        vertical-align: top;\n",
       "    }\n",
       "\n",
       "    .dataframe thead th {\n",
       "        text-align: right;\n",
       "    }\n",
       "</style>\n",
       "<table border=\"1\" class=\"dataframe\">\n",
       "  <thead>\n",
       "    <tr style=\"text-align: right;\">\n",
       "      <th></th>\n",
       "      <th>score_mean</th>\n",
       "      <th>score_std</th>\n",
       "      <th>k</th>\n",
       "      <th>metric</th>\n",
       "    </tr>\n",
       "  </thead>\n",
       "  <tbody>\n",
       "    <tr>\n",
       "      <th>0</th>\n",
       "      <td>0.994919</td>\n",
       "      <td>0.00231077</td>\n",
       "      <td>1</td>\n",
       "      <td>euclidean</td>\n",
       "    </tr>\n",
       "    <tr>\n",
       "      <th>1</th>\n",
       "      <td>0.996069</td>\n",
       "      <td>0.0013897</td>\n",
       "      <td>1</td>\n",
       "      <td>manhattan</td>\n",
       "    </tr>\n",
       "    <tr>\n",
       "      <th>2</th>\n",
       "      <td>0.992139</td>\n",
       "      <td>0.00226272</td>\n",
       "      <td>1</td>\n",
       "      <td>chebyshev</td>\n",
       "    </tr>\n",
       "    <tr>\n",
       "      <th>3</th>\n",
       "      <td>0.994248</td>\n",
       "      <td>0.00231098</td>\n",
       "      <td>2</td>\n",
       "      <td>euclidean</td>\n",
       "    </tr>\n",
       "    <tr>\n",
       "      <th>4</th>\n",
       "      <td>0.995302</td>\n",
       "      <td>0.00174304</td>\n",
       "      <td>2</td>\n",
       "      <td>manhattan</td>\n",
       "    </tr>\n",
       "  </tbody>\n",
       "</table>\n",
       "</div>"
      ],
      "text/plain": [
       "  score_mean   score_std  k     metric\n",
       "0   0.994919  0.00231077  1  euclidean\n",
       "1   0.996069   0.0013897  1  manhattan\n",
       "2   0.992139  0.00226272  1  chebyshev\n",
       "3   0.994248  0.00231098  2  euclidean\n",
       "4   0.995302  0.00174304  2  manhattan"
      ]
     },
     "execution_count": 148,
     "metadata": {},
     "output_type": "execute_result"
    }
   ],
   "source": [
    "df_results = pd.DataFrame(results)\n",
    "df_params = df_results[0].apply(lambda x: pd.Series(x))\n",
    "df_results = pd.concat([df_results.drop(0, axis=1), df_params], axis=1)\n",
    "df_results.columns = ['score_mean', 'score_std', 'k', 'metric']\n",
    "df_results.head()"
   ]
  },
  {
   "cell_type": "code",
   "execution_count": 149,
   "metadata": {},
   "outputs": [
    {
     "data": {
      "image/png": "[encoded data removed]",
      "text/plain": [
       "<Figure size 1296x360 with 3 Axes>"
      ]
     },
     "metadata": {
      "needs_background": "light"
     },
     "output_type": "display_data"
    }
   ],
   "source": [
    "fig, axs = plt.subplots(1, 3, figsize=(18, 5))\n",
    "\n",
    "df_results[df_results['metric'] == 'euclidean'].plot(x='k', y='score_mean', ax=axs[0], title='k neighbors X score - Euclidean distance')\n",
    "df_results[df_results['metric'] == 'manhattan'].plot(x='k', y='score_mean', ax=axs[1], title='k neighbors X score - Manhattan distance')\n",
    "df_results[df_results['metric'] == 'chebyshev'].plot(x='k', y='score_mean', ax=axs[2], title='k neighbors X score - Chebyshev distance')\n",
    "\n",
    "plt.tight_layout()\n",
    "plt.show()"
   ]
  },
  {
   "cell_type": "code",
   "execution_count": null,
   "metadata": {},
   "outputs": [],
   "source": []
  },
  {
   "cell_type": "code",
   "execution_count": 151,
   "metadata": {},
   "outputs": [
    {
     "name": "stdout",
     "output_type": "stream",
     "text": [
      "Acuracia - KNN: k =  1, metric = uniform, scores: 0.996\n",
      "Acuracia - KNN: k =  1, metric = distance, scores: 0.996\n",
      "Acuracia - KNN: k =  2, metric = uniform, scores: 0.995\n",
      "Acuracia - KNN: k =  2, metric = distance, scores: 0.996\n",
      "Acuracia - KNN: k =  3, metric = uniform, scores: 0.995\n",
      "Acuracia - KNN: k =  3, metric = distance, scores: 0.996\n"
     ]
    }
   ],
   "source": [
    "results_2 = []\n",
    "for k in range(1, 4):\n",
    "    for weight in ['uniform', 'distance']:\n",
    "        params = {'n_neighbors': k, 'weights': weight}\n",
    "        \n",
    "        clf_knn = KNeighborsClassifier(**params, metric='manhattan')\n",
    "        \n",
    "        scores = cross_val_score(clf_knn, X_train, y_train, cv=kfold)\n",
    "        scores_mean = scores.mean()\n",
    "        scores_std = scores.std()\n",
    "        \n",
    "        results_2.append((params, scores_mean, scores_std))\n",
    "        \n",
    "        print('Acuracia - KNN: k = %2d, metric = %s, scores: %0.3f' % (k, weight, scores_mean))"
   ]
  },
  {
   "cell_type": "code",
   "execution_count": 152,
   "metadata": {},
   "outputs": [
    {
     "data": {
      "text/plain": [
       "array([{'n_neighbors': 3, 'weights': 'distance'}, 0.9960689304708309,\n",
       "       0.0015155424884396689], dtype=object)"
      ]
     },
     "execution_count": 152,
     "metadata": {},
     "output_type": "execute_result"
    }
   ],
   "source": [
    "results_2 = np.array(results_2)\n",
    "idx_best_result = results_2[:, 1].argmax()\n",
    "results_2[idx_best_result]"
   ]
  },
  {
   "cell_type": "code",
   "execution_count": 153,
   "metadata": {},
   "outputs": [
    {
     "data": {
      "text/html": [
       "<div>\n",
       "<style scoped>\n",
       "    .dataframe tbody tr th:only-of-type {\n",
       "        vertical-align: middle;\n",
       "    }\n",
       "\n",
       "    .dataframe tbody tr th {\n",
       "        vertical-align: top;\n",
       "    }\n",
       "\n",
       "    .dataframe thead th {\n",
       "        text-align: right;\n",
       "    }\n",
       "</style>\n",
       "<table border=\"1\" class=\"dataframe\">\n",
       "  <thead>\n",
       "    <tr style=\"text-align: right;\">\n",
       "      <th></th>\n",
       "      <th>score_mean</th>\n",
       "      <th>score_std</th>\n",
       "      <th>k</th>\n",
       "      <th>weight</th>\n",
       "    </tr>\n",
       "  </thead>\n",
       "  <tbody>\n",
       "    <tr>\n",
       "      <th>5</th>\n",
       "      <td>0.996069</td>\n",
       "      <td>0.00151554</td>\n",
       "      <td>3</td>\n",
       "      <td>distance</td>\n",
       "    </tr>\n",
       "    <tr>\n",
       "      <th>0</th>\n",
       "      <td>0.996069</td>\n",
       "      <td>0.0013897</td>\n",
       "      <td>1</td>\n",
       "      <td>uniform</td>\n",
       "    </tr>\n",
       "    <tr>\n",
       "      <th>1</th>\n",
       "      <td>0.996069</td>\n",
       "      <td>0.0013897</td>\n",
       "      <td>1</td>\n",
       "      <td>distance</td>\n",
       "    </tr>\n",
       "    <tr>\n",
       "      <th>3</th>\n",
       "      <td>0.996069</td>\n",
       "      <td>0.0013897</td>\n",
       "      <td>2</td>\n",
       "      <td>distance</td>\n",
       "    </tr>\n",
       "    <tr>\n",
       "      <th>2</th>\n",
       "      <td>0.995302</td>\n",
       "      <td>0.00174304</td>\n",
       "      <td>2</td>\n",
       "      <td>uniform</td>\n",
       "    </tr>\n",
       "  </tbody>\n",
       "</table>\n",
       "</div>"
      ],
      "text/plain": [
       "  score_mean   score_std  k    weight\n",
       "5   0.996069  0.00151554  3  distance\n",
       "0   0.996069   0.0013897  1   uniform\n",
       "1   0.996069   0.0013897  1  distance\n",
       "3   0.996069   0.0013897  2  distance\n",
       "2   0.995302  0.00174304  2   uniform"
      ]
     },
     "execution_count": 153,
     "metadata": {},
     "output_type": "execute_result"
    }
   ],
   "source": [
    "df_results = pd.DataFrame(results_2)\n",
    "df_params = df_results[0].apply(lambda x: pd.Series(x))\n",
    "df_results = pd.concat([df_results.drop(0, axis=1), df_params], axis=1)\n",
    "df_results.columns = ['score_mean', 'score_std', 'k', 'weight']\n",
    "df_results.sort_values('score_mean', ascending=False).head()"
   ]
  },
  {
   "cell_type": "markdown",
   "metadata": {},
   "source": [
    "### Com PCA"
   ]
  },
  {
   "cell_type": "code",
   "execution_count": 8,
   "metadata": {},
   "outputs": [],
   "source": [
    "X = dataset_pca.drop('target', axis=1)\n",
    "y = dataset_pca.loc[:,'target']\n",
    "X_train, X_test, y_train, y_test = train_test_split(X, y, test_size=0.25, random_state=seed)"
   ]
  },
  {
   "cell_type": "code",
   "execution_count": 11,
   "metadata": {},
   "outputs": [
    {
     "name": "stdout",
     "output_type": "stream",
     "text": [
      "Acuracia - KNN: k =  1, metric = euclidean, scores: 0.995\n",
      "Acuracia - KNN: k =  1, metric = manhattan, scores: 0.996\n",
      "Acuracia - KNN: k =  1, metric = chebyshev, scores: 0.993\n",
      "Acuracia - KNN: k =  2, metric = euclidean, scores: 0.994\n",
      "Acuracia - KNN: k =  2, metric = manhattan, scores: 0.995\n",
      "Acuracia - KNN: k =  2, metric = chebyshev, scores: 0.992\n",
      "Acuracia - KNN: k =  3, metric = euclidean, scores: 0.993\n",
      "Acuracia - KNN: k =  3, metric = manhattan, scores: 0.995\n",
      "Acuracia - KNN: k =  3, metric = chebyshev, scores: 0.991\n",
      "Acuracia - KNN: k =  4, metric = euclidean, scores: 0.992\n",
      "Acuracia - KNN: k =  4, metric = manhattan, scores: 0.994\n",
      "Acuracia - KNN: k =  4, metric = chebyshev, scores: 0.989\n",
      "Acuracia - KNN: k =  5, metric = euclidean, scores: 0.991\n",
      "Acuracia - KNN: k =  5, metric = manhattan, scores: 0.993\n",
      "Acuracia - KNN: k =  5, metric = chebyshev, scores: 0.987\n",
      "Acuracia - KNN: k =  6, metric = euclidean, scores: 0.990\n",
      "Acuracia - KNN: k =  6, metric = manhattan, scores: 0.993\n",
      "Acuracia - KNN: k =  6, metric = chebyshev, scores: 0.986\n",
      "Acuracia - KNN: k =  7, metric = euclidean, scores: 0.989\n",
      "Acuracia - KNN: k =  7, metric = manhattan, scores: 0.992\n",
      "Acuracia - KNN: k =  7, metric = chebyshev, scores: 0.984\n",
      "Acuracia - KNN: k =  8, metric = euclidean, scores: 0.988\n",
      "Acuracia - KNN: k =  8, metric = manhattan, scores: 0.991\n",
      "Acuracia - KNN: k =  8, metric = chebyshev, scores: 0.982\n",
      "Acuracia - KNN: k =  9, metric = euclidean, scores: 0.988\n",
      "Acuracia - KNN: k =  9, metric = manhattan, scores: 0.991\n",
      "Acuracia - KNN: k =  9, metric = chebyshev, scores: 0.981\n",
      "Acuracia - KNN: k = 10, metric = euclidean, scores: 0.986\n",
      "Acuracia - KNN: k = 10, metric = manhattan, scores: 0.990\n",
      "Acuracia - KNN: k = 10, metric = chebyshev, scores: 0.979\n"
     ]
    }
   ],
   "source": [
    "results = []\n",
    "for k in range(1, 11):\n",
    "    for metric in ['euclidean', 'manhattan', 'chebyshev']:\n",
    "        params = {'n_neighbors': k, 'metric': metric}\n",
    "        \n",
    "        clf_knn = KNeighborsClassifier(**params)\n",
    "        \n",
    "        scores = cross_val_score(clf_knn, X_train, y_train, cv=kfold)\n",
    "        scores_mean = scores.mean()\n",
    "        scores_std = scores.std()\n",
    "        \n",
    "        results.append((params, scores_mean, scores_std))\n",
    "        \n",
    "        print('Acuracia - KNN: k = %2d, metric = %s, scores: %0.3f' % (k, metric, scores_mean))"
   ]
  },
  {
   "cell_type": "code",
   "execution_count": 12,
   "metadata": {},
   "outputs": [
    {
     "data": {
      "text/plain": [
       "array([{'n_neighbors': 1, 'metric': 'manhattan'}, 0.9958774482577667,\n",
       "       0.002190101118254926], dtype=object)"
      ]
     },
     "execution_count": 12,
     "metadata": {},
     "output_type": "execute_result"
    }
   ],
   "source": [
    "results = np.array(results)\n",
    "idx_best_result = results[:, 1].argmax()\n",
    "results[idx_best_result]"
   ]
  },
  {
   "cell_type": "code",
   "execution_count": 13,
   "metadata": {},
   "outputs": [
    {
     "data": {
      "text/html": [
       "<div>\n",
       "<style scoped>\n",
       "    .dataframe tbody tr th:only-of-type {\n",
       "        vertical-align: middle;\n",
       "    }\n",
       "\n",
       "    .dataframe tbody tr th {\n",
       "        vertical-align: top;\n",
       "    }\n",
       "\n",
       "    .dataframe thead th {\n",
       "        text-align: right;\n",
       "    }\n",
       "</style>\n",
       "<table border=\"1\" class=\"dataframe\">\n",
       "  <thead>\n",
       "    <tr style=\"text-align: right;\">\n",
       "      <th></th>\n",
       "      <th>score_mean</th>\n",
       "      <th>score_std</th>\n",
       "      <th>k</th>\n",
       "      <th>metric</th>\n",
       "    </tr>\n",
       "  </thead>\n",
       "  <tbody>\n",
       "    <tr>\n",
       "      <th>0</th>\n",
       "      <td>0.995207</td>\n",
       "      <td>0.00222842</td>\n",
       "      <td>1</td>\n",
       "      <td>euclidean</td>\n",
       "    </tr>\n",
       "    <tr>\n",
       "      <th>1</th>\n",
       "      <td>0.995877</td>\n",
       "      <td>0.0021901</td>\n",
       "      <td>1</td>\n",
       "      <td>manhattan</td>\n",
       "    </tr>\n",
       "    <tr>\n",
       "      <th>2</th>\n",
       "      <td>0.993481</td>\n",
       "      <td>0.00249472</td>\n",
       "      <td>1</td>\n",
       "      <td>chebyshev</td>\n",
       "    </tr>\n",
       "    <tr>\n",
       "      <th>3</th>\n",
       "      <td>0.994152</td>\n",
       "      <td>0.00255525</td>\n",
       "      <td>2</td>\n",
       "      <td>euclidean</td>\n",
       "    </tr>\n",
       "    <tr>\n",
       "      <th>4</th>\n",
       "      <td>0.995015</td>\n",
       "      <td>0.00230271</td>\n",
       "      <td>2</td>\n",
       "      <td>manhattan</td>\n",
       "    </tr>\n",
       "  </tbody>\n",
       "</table>\n",
       "</div>"
      ],
      "text/plain": [
       "  score_mean   score_std  k     metric\n",
       "0   0.995207  0.00222842  1  euclidean\n",
       "1   0.995877   0.0021901  1  manhattan\n",
       "2   0.993481  0.00249472  1  chebyshev\n",
       "3   0.994152  0.00255525  2  euclidean\n",
       "4   0.995015  0.00230271  2  manhattan"
      ]
     },
     "execution_count": 13,
     "metadata": {},
     "output_type": "execute_result"
    }
   ],
   "source": [
    "df_results = pd.DataFrame(results)\n",
    "df_params = df_results[0].apply(lambda x: pd.Series(x))\n",
    "df_results = pd.concat([df_results.drop(0, axis=1), df_params], axis=1)\n",
    "df_results.columns = ['score_mean', 'score_std', 'k', 'metric']\n",
    "df_results.head()"
   ]
  },
  {
   "cell_type": "code",
   "execution_count": 14,
   "metadata": {},
   "outputs": [
    {
     "data": {
      "image/png": "[encoded data removed]",
      "text/plain": [
       "<Figure size 1296x360 with 3 Axes>"
      ]
     },
     "metadata": {
      "needs_background": "light"
     },
     "output_type": "display_data"
    }
   ],
   "source": [
    "fig, axs = plt.subplots(1, 3, figsize=(18, 5))\n",
    "\n",
    "df_results[df_results['metric'] == 'euclidean'].plot(x='k', y='score_mean', ax=axs[0], title='k neighbors X score - Euclidean distance')\n",
    "df_results[df_results['metric'] == 'manhattan'].plot(x='k', y='score_mean', ax=axs[1], title='k neighbors X score - Manhattan distance')\n",
    "df_results[df_results['metric'] == 'chebyshev'].plot(x='k', y='score_mean', ax=axs[2], title='k neighbors X score - Chebyshev distance')\n",
    "\n",
    "plt.tight_layout()\n",
    "plt.show()"
   ]
  },
  {
   "cell_type": "code",
   "execution_count": 15,
   "metadata": {},
   "outputs": [
    {
     "name": "stdout",
     "output_type": "stream",
     "text": [
      "Acuracia - KNN: k =  1, metric = uniform, scores: 0.996\n",
      "Acuracia - KNN: k =  1, metric = distance, scores: 0.996\n",
      "Acuracia - KNN: k =  2, metric = uniform, scores: 0.995\n",
      "Acuracia - KNN: k =  2, metric = distance, scores: 0.996\n",
      "Acuracia - KNN: k =  3, metric = uniform, scores: 0.995\n",
      "Acuracia - KNN: k =  3, metric = distance, scores: 0.996\n"
     ]
    }
   ],
   "source": [
    "results_2 = []\n",
    "for k in range(1, 4):\n",
    "    for weight in ['uniform', 'distance']:\n",
    "        params = {'n_neighbors': k, 'weights': weight}\n",
    "        \n",
    "        clf_knn = KNeighborsClassifier(**params, metric='manhattan')\n",
    "        \n",
    "        scores = cross_val_score(clf_knn, X_train, y_train, cv=kfold)\n",
    "        scores_mean = scores.mean()\n",
    "        scores_std = scores.std()\n",
    "        \n",
    "        results_2.append((params, scores_mean, scores_std))\n",
    "        \n",
    "        print('Acuracia - KNN: k = %2d, metric = %s, scores: %0.3f' % (k, weight, scores_mean))"
   ]
  },
  {
   "cell_type": "code",
   "execution_count": 16,
   "metadata": {},
   "outputs": [
    {
     "data": {
      "text/plain": [
       "array([{'n_neighbors': 1, 'weights': 'uniform'}, 0.9958774482577667,\n",
       "       0.002190101118254926], dtype=object)"
      ]
     },
     "execution_count": 16,
     "metadata": {},
     "output_type": "execute_result"
    }
   ],
   "source": [
    "results_2 = np.array(results_2)\n",
    "idx_best_result = results_2[:, 1].argmax()\n",
    "results_2[idx_best_result]"
   ]
  },
  {
   "cell_type": "code",
   "execution_count": 17,
   "metadata": {},
   "outputs": [
    {
     "data": {
      "text/html": [
       "<div>\n",
       "<style scoped>\n",
       "    .dataframe tbody tr th:only-of-type {\n",
       "        vertical-align: middle;\n",
       "    }\n",
       "\n",
       "    .dataframe tbody tr th {\n",
       "        vertical-align: top;\n",
       "    }\n",
       "\n",
       "    .dataframe thead th {\n",
       "        text-align: right;\n",
       "    }\n",
       "</style>\n",
       "<table border=\"1\" class=\"dataframe\">\n",
       "  <thead>\n",
       "    <tr style=\"text-align: right;\">\n",
       "      <th></th>\n",
       "      <th>score_mean</th>\n",
       "      <th>score_std</th>\n",
       "      <th>k</th>\n",
       "      <th>weight</th>\n",
       "    </tr>\n",
       "  </thead>\n",
       "  <tbody>\n",
       "    <tr>\n",
       "      <th>0</th>\n",
       "      <td>0.995877</td>\n",
       "      <td>0.0021901</td>\n",
       "      <td>1</td>\n",
       "      <td>uniform</td>\n",
       "    </tr>\n",
       "    <tr>\n",
       "      <th>1</th>\n",
       "      <td>0.995877</td>\n",
       "      <td>0.0021901</td>\n",
       "      <td>1</td>\n",
       "      <td>distance</td>\n",
       "    </tr>\n",
       "    <tr>\n",
       "      <th>3</th>\n",
       "      <td>0.995877</td>\n",
       "      <td>0.0021901</td>\n",
       "      <td>2</td>\n",
       "      <td>distance</td>\n",
       "    </tr>\n",
       "    <tr>\n",
       "      <th>5</th>\n",
       "      <td>0.99559</td>\n",
       "      <td>0.00227517</td>\n",
       "      <td>3</td>\n",
       "      <td>distance</td>\n",
       "    </tr>\n",
       "    <tr>\n",
       "      <th>2</th>\n",
       "      <td>0.995015</td>\n",
       "      <td>0.00230271</td>\n",
       "      <td>2</td>\n",
       "      <td>uniform</td>\n",
       "    </tr>\n",
       "  </tbody>\n",
       "</table>\n",
       "</div>"
      ],
      "text/plain": [
       "  score_mean   score_std  k    weight\n",
       "0   0.995877   0.0021901  1   uniform\n",
       "1   0.995877   0.0021901  1  distance\n",
       "3   0.995877   0.0021901  2  distance\n",
       "5    0.99559  0.00227517  3  distance\n",
       "2   0.995015  0.00230271  2   uniform"
      ]
     },
     "execution_count": 17,
     "metadata": {},
     "output_type": "execute_result"
    }
   ],
   "source": [
    "df_results = pd.DataFrame(results_2)\n",
    "df_params = df_results[0].apply(lambda x: pd.Series(x))\n",
    "df_results = pd.concat([df_results.drop(0, axis=1), df_params], axis=1)\n",
    "df_results.columns = ['score_mean', 'score_std', 'k', 'weight']\n",
    "df_results.sort_values('score_mean', ascending=False).head()"
   ]
  },
  {
   "cell_type": "markdown",
   "metadata": {},
   "source": [
    "## Random Forest"
   ]
  },
  {
   "cell_type": "code",
   "execution_count": 20,
   "metadata": {},
   "outputs": [
    {
     "name": "stdout",
     "output_type": "stream",
     "text": [
      "Acuracia - RF: n_estimators = 10, scores: 0.993\n",
      "Acuracia - RF: n_estimators = 30, scores: 0.994\n",
      "Acuracia - RF: n_estimators = 50, scores: 0.994\n",
      "Acuracia - RF: n_estimators = 70, scores: 0.994\n",
      "Acuracia - RF: n_estimators = 90, scores: 0.994\n",
      "Acuracia - RF: n_estimators = 110, scores: 0.994\n",
      "Acuracia - RF: n_estimators = 130, scores: 0.994\n",
      "Acuracia - RF: n_estimators = 150, scores: 0.994\n",
      "Acuracia - RF: n_estimators = 170, scores: 0.994\n",
      "Acuracia - RF: n_estimators = 190, scores: 0.994\n",
      "Acuracia - RF: n_estimators = 210, scores: 0.994\n",
      "Acuracia - RF: n_estimators = 230, scores: 0.994\n",
      "Acuracia - RF: n_estimators = 250, scores: 0.994\n",
      "Acuracia - RF: n_estimators = 270, scores: 0.994\n",
      "Acuracia - RF: n_estimators = 290, scores: 0.994\n",
      "Acuracia - RF: n_estimators = 310, scores: 0.994\n",
      "Acuracia - RF: n_estimators = 330, scores: 0.994\n",
      "Acuracia - RF: n_estimators = 350, scores: 0.994\n",
      "Acuracia - RF: n_estimators = 370, scores: 0.994\n",
      "Acuracia - RF: n_estimators = 390, scores: 0.994\n"
     ]
    }
   ],
   "source": [
    "results = []\n",
    "for n_estimators in range(10,401,20):\n",
    "    clf_rf = RandomForestClassifier(n_estimators=n_estimators, random_state=10, n_jobs=-1)\n",
    "    \n",
    "    scores = cross_val_score(clf_rf, X_train, y_train, cv=kfold)\n",
    "    scores_mean = scores.mean()\n",
    "    scores_std = scores.std()\n",
    "    \n",
    "    results.append(({'n_estimators': n_estimators}, scores_mean, scores_std))\n",
    "\n",
    "    print('Acuracia - RF: n_estimators = %2d, scores: %0.3f' % (n_estimators, scores_mean))"
   ]
  },
  {
   "cell_type": "code",
   "execution_count": 21,
   "metadata": {},
   "outputs": [
    {
     "data": {
      "text/plain": [
       "array([{'n_estimators': 110}, 0.9944402058863577, 0.002599884725692586],\n",
       "      dtype=object)"
      ]
     },
     "execution_count": 21,
     "metadata": {},
     "output_type": "execute_result"
    }
   ],
   "source": [
    "results = np.array(results)\n",
    "idx_best_result = results[:, 1].argmax()\n",
    "results[idx_best_result]"
   ]
  },
  {
   "cell_type": "code",
   "execution_count": 22,
   "metadata": {},
   "outputs": [
    {
     "data": {
      "text/html": [
       "<div>\n",
       "<style scoped>\n",
       "    .dataframe tbody tr th:only-of-type {\n",
       "        vertical-align: middle;\n",
       "    }\n",
       "\n",
       "    .dataframe tbody tr th {\n",
       "        vertical-align: top;\n",
       "    }\n",
       "\n",
       "    .dataframe thead th {\n",
       "        text-align: right;\n",
       "    }\n",
       "</style>\n",
       "<table border=\"1\" class=\"dataframe\">\n",
       "  <thead>\n",
       "    <tr style=\"text-align: right;\">\n",
       "      <th></th>\n",
       "      <th>score_mean</th>\n",
       "      <th>score_std</th>\n",
       "      <th>n_estimators</th>\n",
       "    </tr>\n",
       "  </thead>\n",
       "  <tbody>\n",
       "    <tr>\n",
       "      <th>0</th>\n",
       "      <td>0.992524</td>\n",
       "      <td>0.0028659</td>\n",
       "      <td>10</td>\n",
       "    </tr>\n",
       "    <tr>\n",
       "      <th>1</th>\n",
       "      <td>0.993674</td>\n",
       "      <td>0.00318326</td>\n",
       "      <td>30</td>\n",
       "    </tr>\n",
       "    <tr>\n",
       "      <th>2</th>\n",
       "      <td>0.993962</td>\n",
       "      <td>0.00296832</td>\n",
       "      <td>50</td>\n",
       "    </tr>\n",
       "    <tr>\n",
       "      <th>3</th>\n",
       "      <td>0.993961</td>\n",
       "      <td>0.00281137</td>\n",
       "      <td>70</td>\n",
       "    </tr>\n",
       "    <tr>\n",
       "      <th>4</th>\n",
       "      <td>0.993961</td>\n",
       "      <td>0.00267924</td>\n",
       "      <td>90</td>\n",
       "    </tr>\n",
       "  </tbody>\n",
       "</table>\n",
       "</div>"
      ],
      "text/plain": [
       "  score_mean   score_std  n_estimators\n",
       "0   0.992524   0.0028659            10\n",
       "1   0.993674  0.00318326            30\n",
       "2   0.993962  0.00296832            50\n",
       "3   0.993961  0.00281137            70\n",
       "4   0.993961  0.00267924            90"
      ]
     },
     "execution_count": 22,
     "metadata": {},
     "output_type": "execute_result"
    }
   ],
   "source": [
    "df_results = pd.DataFrame(results)\n",
    "df_params = df_results[0].apply(lambda x: pd.Series(x))\n",
    "df_results = pd.concat([df_results.drop(0, axis=1), df_params], axis=1)\n",
    "df_results.columns = ['score_mean', 'score_std', 'n_estimators']\n",
    "df_results.head()"
   ]
  },
  {
   "cell_type": "code",
   "execution_count": 23,
   "metadata": {},
   "outputs": [
    {
     "data": {
      "image/png": "[encoded data removed]",
      "text/plain": [
       "<Figure size 576x360 with 1 Axes>"
      ]
     },
     "metadata": {
      "needs_background": "light"
     },
     "output_type": "display_data"
    }
   ],
   "source": [
    "fig, ax = plt.subplots(figsize=(8, 5))\n",
    "\n",
    "df_results.plot(x='n_estimators', y='score_mean', ax=ax, title='n_estimators X score')\n",
    "plt.show()"
   ]
  }
 ],
 "metadata": {
  "kernelspec": {
   "display_name": "Python 3",
   "language": "python",
   "name": "python3"
  },
  "language_info": {
   "codemirror_mode": {
    "name": "ipython",
    "version": 3
   },
   "file_extension": ".py",
   "mimetype": "text/x-python",
   "name": "python",
   "nbconvert_exporter": "python",
   "pygments_lexer": "ipython3",
   "version": "3.7.3"
  }
 },
 "nbformat": 4,
 "nbformat_minor": 2
}
