{
 "cells": [
  {
   "cell_type": "markdown",
   "metadata": {},
   "source": [
    "# Atividade 4"
   ]
  },
  {
   "cell_type": "code",
   "execution_count": 1,
   "metadata": {},
   "outputs": [],
   "source": [
    "import pandas as pd\n",
    "import numpy as np\n",
    "\n",
    "from sklearn.model_selection import train_test_split, cross_val_score, StratifiedKFold\n",
    "from sklearn.preprocessing import MinMaxScaler\n",
    "from sklearn.neighbors import KNeighborsClassifier\n",
    "from sklearn.tree import DecisionTreeClassifier\n",
    "from sklearn.ensemble import RandomForestClassifier, BaggingClassifier, VotingClassifier\n",
    "from sklearn.neural_network import MLPClassifier\n",
    "from sklearn.metrics import classification_report, accuracy_score, confusion_matrix\n",
    "\n",
    "from scipy.stats import kruskal\n",
    "\n",
    "import matplotlib.pyplot as plt\n",
    "import seaborn as sns"
   ]
  },
  {
   "cell_type": "code",
   "execution_count": 2,
   "metadata": {},
   "outputs": [],
   "source": [
    "from warnings import filterwarnings\n",
    "filterwarnings('ignore')"
   ]
  },
  {
   "cell_type": "code",
   "execution_count": 5,
   "metadata": {},
   "outputs": [],
   "source": [
    "seed = 10"
   ]
  },
  {
   "cell_type": "markdown",
   "metadata": {},
   "source": [
    "## Leitura dos dados"
   ]
  },
  {
   "cell_type": "code",
   "execution_count": 3,
   "metadata": {},
   "outputs": [],
   "source": [
    "dataset = pd.read_csv('../Dataset/dataset_pca.csv')"
   ]
  },
  {
   "cell_type": "markdown",
   "metadata": {},
   "source": [
    "## Separação dos Dados"
   ]
  },
  {
   "cell_type": "code",
   "execution_count": 4,
   "metadata": {},
   "outputs": [],
   "source": [
    "X = dataset.drop('target', axis=1)\n",
    "y = dataset.loc[:,'target']"
   ]
  },
  {
   "cell_type": "markdown",
   "metadata": {},
   "source": [
    "### Separação dos dados para Treino e Teste"
   ]
  },
  {
   "cell_type": "code",
   "execution_count": 7,
   "metadata": {},
   "outputs": [],
   "source": [
    "X_train, X_test, y_train, y_test = train_test_split(X, y, test_size=0.25, random_state=seed)"
   ]
  },
  {
   "cell_type": "markdown",
   "metadata": {},
   "source": [
    "## Experimentos"
   ]
  },
  {
   "cell_type": "code",
   "execution_count": 9,
   "metadata": {},
   "outputs": [],
   "source": [
    "scoring = 'accuracy'\n",
    "cv = 10\n",
    "folds = StratifiedKFold(n_splits=cv, random_state=seed)"
   ]
  },
  {
   "cell_type": "code",
   "execution_count": 27,
   "metadata": {},
   "outputs": [
    {
     "name": "stdout",
     "output_type": "stream",
     "text": [
      "[0.99330784 0.99713193 0.99808429 0.99712368 0.99616491 0.99808245\n",
      " 0.99712368 0.99232246 0.99711816 0.99231508]\n",
      "Mean: 0.99588, std: 0.00219\n"
     ]
    }
   ],
   "source": [
    "knn = KNeighborsClassifier(n_neighbors=1, metric='manhattan')\n",
    "knn_scores = cross_val_score(estimator=knn, X=X_train, y=y_train, cv=folds, scoring=scoring)\n",
    "print(knn_scores)\n",
    "print('Mean: %.5f, std: %.5f' % (np.mean(knn_scores), np.std(knn_scores)))"
   ]
  },
  {
   "cell_type": "code",
   "execution_count": 26,
   "metadata": {},
   "outputs": [
    {
     "name": "stdout",
     "output_type": "stream",
     "text": [
      "[0.97801147 0.9789675  0.98084291 0.98082454 0.97986577 0.97986577\n",
      " 0.98274209 0.96737044 0.97790586 0.9673391 ]\n",
      "Mean: 0.97737, std: 0.00519\n"
     ]
    }
   ],
   "source": [
    "# tree = DecisionTreeClassifier(criterion='gini', max_depth=None, min_samples_split=2, random_state=seed)\n",
    "# tree_scores = cross_val_score(estimator=tree, X=X_train, y=y_train, cv=folds, scoring=scoring)\n",
    "print(tree_scores)\n",
    "print('Mean: %.5f, std: %.5f' % (np.mean(tree_scores), np.std(tree_scores)))"
   ]
  },
  {
   "cell_type": "code",
   "execution_count": 25,
   "metadata": {},
   "outputs": [
    {
     "name": "stdout",
     "output_type": "stream",
     "text": [
      "[0.99043977 0.99713193 0.99616858 0.99424736 0.99424736 0.99712368\n",
      " 0.99520614 0.98944338 0.99711816 0.9932757 ]\n",
      "Mean: 0.99444, std: 0.00260\n"
     ]
    }
   ],
   "source": [
    "forest = RandomForestClassifier(n_estimators=110, random_state=seed)\n",
    "forest_scores = cross_val_score(estimator=forest, X=X_train, y=y_train, cv=folds, scoring=scoring)\n",
    "print(forest_scores)\n",
    "print('Mean: %.5f, std: %.5f' % (np.mean(forest_scores), np.std(forest_scores)))"
   ]
  },
  {
   "cell_type": "code",
   "execution_count": 24,
   "metadata": {},
   "outputs": [
    {
     "name": "stdout",
     "output_type": "stream",
     "text": [
      "[0.99426386 0.99713193 0.99616858 0.99616491 0.99616491 0.99808245\n",
      " 0.99424736 0.99328215 0.99615754 0.99519693]\n",
      "Mean: 0.99569, std: 0.00137\n"
     ]
    }
   ],
   "source": [
    "mlp = MLPClassifier(hidden_layer_sizes=(55, 55, 50), activation='tanh', solver='lbfgs', max_iter=2000, random_state=seed)\n",
    "mlp_scores = cross_val_score(estimator=mlp, X=X_train, y=y_train, cv=folds, scoring=scoring)\n",
    "print(mlp_scores)\n",
    "print('Mean: %.5f, std: %.5f' % (np.mean(mlp_scores), np.std(mlp_scores)))"
   ]
  },
  {
   "cell_type": "code",
   "execution_count": 23,
   "metadata": {},
   "outputs": [
    {
     "name": "stdout",
     "output_type": "stream",
     "text": [
      "[0.99330784 0.99617591 0.99616858 0.99520614 0.99712368 0.99808245\n",
      " 0.99520614 0.99328215 0.9932757  0.99519693]\n",
      "Mean: 0.99530, std: 0.00157\n"
     ]
    }
   ],
   "source": [
    "bagging = BaggingClassifier(mlp, n_estimators=10)\n",
    "bagging_scores = cross_val_score(estimator=bagging, X=X_train, y=y_train, cv=folds, scoring=scoring)\n",
    "print(bagging_scores)\n",
    "print('Mean: %.5f, std: %.5f' % (np.mean(bagging_scores), np.std(bagging_scores)))"
   ]
  },
  {
   "cell_type": "code",
   "execution_count": 22,
   "metadata": {},
   "outputs": [
    {
     "name": "stdout",
     "output_type": "stream",
     "text": [
      "[0.99330784 0.99713193 0.99712644 0.99616491 0.99616491 0.99712368\n",
      " 0.99712368 0.99232246 0.99903939 0.99615754]\n",
      "Mean: 0.99617, std: 0.00187\n"
     ]
    }
   ],
   "source": [
    "voting = VotingClassifier(estimators=[('knn', knn), ('tree', tree), ('forest', forest), ('mlp', mlp)])\n",
    "voting_scores = cross_val_score(estimator=voting, X=X_train, y=y_train, cv=folds, scoring=scoring)\n",
    "print(voting_scores)\n",
    "print('Mean: %.5f, std: %.5f' % (np.mean(voting_scores), np.std(voting_scores)))"
   ]
  },
  {
   "cell_type": "markdown",
   "metadata": {},
   "source": [
    "## Teste estatístico"
   ]
  },
  {
   "cell_type": "code",
   "execution_count": 28,
   "metadata": {},
   "outputs": [
    {
     "name": "stdout",
     "output_type": "stream",
     "text": [
      "26.900403922224086 5.9647093364096856e-05\n"
     ]
    }
   ],
   "source": [
    "stat, p = kruskal(knn_scores, tree_scores, forest_scores, mlp_scores, bagging_scores, voting_scores)\n",
    "print(stat, p)"
   ]
  },
  {
   "cell_type": "code",
   "execution_count": 29,
   "metadata": {},
   "outputs": [
    {
     "name": "stdout",
     "output_type": "stream",
     "text": [
      "Different distributions (reject H0)\n"
     ]
    }
   ],
   "source": [
    "alpha = 0.05\n",
    "if p > alpha:\n",
    "    print('Same distributions (fail to reject H0)')\n",
    "else:\n",
    "    print('Different distributions (reject H0)')"
   ]
  },
  {
   "cell_type": "code",
   "execution_count": 30,
   "metadata": {},
   "outputs": [
    {
     "data": {
      "text/html": [
       "<div>\n",
       "<style scoped>\n",
       "    .dataframe tbody tr th:only-of-type {\n",
       "        vertical-align: middle;\n",
       "    }\n",
       "\n",
       "    .dataframe tbody tr th {\n",
       "        vertical-align: top;\n",
       "    }\n",
       "\n",
       "    .dataframe thead th {\n",
       "        text-align: right;\n",
       "    }\n",
       "</style>\n",
       "<table border=\"1\" class=\"dataframe\">\n",
       "  <thead>\n",
       "    <tr style=\"text-align: right;\">\n",
       "      <th></th>\n",
       "      <th>0</th>\n",
       "      <th>1</th>\n",
       "      <th>2</th>\n",
       "      <th>3</th>\n",
       "      <th>4</th>\n",
       "      <th>5</th>\n",
       "      <th>6</th>\n",
       "      <th>7</th>\n",
       "      <th>8</th>\n",
       "      <th>9</th>\n",
       "    </tr>\n",
       "  </thead>\n",
       "  <tbody>\n",
       "    <tr>\n",
       "      <th>KNN</th>\n",
       "      <td>0.993308</td>\n",
       "      <td>0.997132</td>\n",
       "      <td>0.998084</td>\n",
       "      <td>0.997124</td>\n",
       "      <td>0.996165</td>\n",
       "      <td>0.998082</td>\n",
       "      <td>0.997124</td>\n",
       "      <td>0.992322</td>\n",
       "      <td>0.997118</td>\n",
       "      <td>0.992315</td>\n",
       "    </tr>\n",
       "    <tr>\n",
       "      <th>DT</th>\n",
       "      <td>0.978011</td>\n",
       "      <td>0.978967</td>\n",
       "      <td>0.980843</td>\n",
       "      <td>0.980825</td>\n",
       "      <td>0.979866</td>\n",
       "      <td>0.979866</td>\n",
       "      <td>0.982742</td>\n",
       "      <td>0.967370</td>\n",
       "      <td>0.977906</td>\n",
       "      <td>0.967339</td>\n",
       "    </tr>\n",
       "    <tr>\n",
       "      <th>RF</th>\n",
       "      <td>0.990440</td>\n",
       "      <td>0.997132</td>\n",
       "      <td>0.996169</td>\n",
       "      <td>0.994247</td>\n",
       "      <td>0.994247</td>\n",
       "      <td>0.997124</td>\n",
       "      <td>0.995206</td>\n",
       "      <td>0.989443</td>\n",
       "      <td>0.997118</td>\n",
       "      <td>0.993276</td>\n",
       "    </tr>\n",
       "    <tr>\n",
       "      <th>MLP</th>\n",
       "      <td>0.994264</td>\n",
       "      <td>0.997132</td>\n",
       "      <td>0.996169</td>\n",
       "      <td>0.996165</td>\n",
       "      <td>0.996165</td>\n",
       "      <td>0.998082</td>\n",
       "      <td>0.994247</td>\n",
       "      <td>0.993282</td>\n",
       "      <td>0.996158</td>\n",
       "      <td>0.995197</td>\n",
       "    </tr>\n",
       "    <tr>\n",
       "      <th>BG</th>\n",
       "      <td>0.993308</td>\n",
       "      <td>0.996176</td>\n",
       "      <td>0.996169</td>\n",
       "      <td>0.995206</td>\n",
       "      <td>0.997124</td>\n",
       "      <td>0.998082</td>\n",
       "      <td>0.995206</td>\n",
       "      <td>0.993282</td>\n",
       "      <td>0.993276</td>\n",
       "      <td>0.995197</td>\n",
       "    </tr>\n",
       "    <tr>\n",
       "      <th>VT</th>\n",
       "      <td>0.993308</td>\n",
       "      <td>0.997132</td>\n",
       "      <td>0.997126</td>\n",
       "      <td>0.996165</td>\n",
       "      <td>0.996165</td>\n",
       "      <td>0.997124</td>\n",
       "      <td>0.997124</td>\n",
       "      <td>0.992322</td>\n",
       "      <td>0.999039</td>\n",
       "      <td>0.996158</td>\n",
       "    </tr>\n",
       "  </tbody>\n",
       "</table>\n",
       "</div>"
      ],
      "text/plain": [
       "            0         1         2         3         4         5         6  \\\n",
       "KNN  0.993308  0.997132  0.998084  0.997124  0.996165  0.998082  0.997124   \n",
       "DT   0.978011  0.978967  0.980843  0.980825  0.979866  0.979866  0.982742   \n",
       "RF   0.990440  0.997132  0.996169  0.994247  0.994247  0.997124  0.995206   \n",
       "MLP  0.994264  0.997132  0.996169  0.996165  0.996165  0.998082  0.994247   \n",
       "BG   0.993308  0.996176  0.996169  0.995206  0.997124  0.998082  0.995206   \n",
       "VT   0.993308  0.997132  0.997126  0.996165  0.996165  0.997124  0.997124   \n",
       "\n",
       "            7         8         9  \n",
       "KNN  0.992322  0.997118  0.992315  \n",
       "DT   0.967370  0.977906  0.967339  \n",
       "RF   0.989443  0.997118  0.993276  \n",
       "MLP  0.993282  0.996158  0.995197  \n",
       "BG   0.993282  0.993276  0.995197  \n",
       "VT   0.992322  0.999039  0.996158  "
      ]
     },
     "execution_count": 30,
     "metadata": {},
     "output_type": "execute_result"
    }
   ],
   "source": [
    "results = pd.DataFrame([knn_scores, tree_scores, forest_scores, mlp_scores, bagging_scores, voting_scores])\n",
    "results.index = ['KNN', 'DT', 'RF', 'MLP', 'BG', 'VT']\n",
    "results"
   ]
  },
  {
   "cell_type": "code",
   "execution_count": 31,
   "metadata": {},
   "outputs": [
    {
     "data": {
      "image/png": "[encoded data removed]",
      "text/plain": [
       "<Figure size 864x504 with 1 Axes>"
      ]
     },
     "metadata": {
      "needs_background": "light"
     },
     "output_type": "display_data"
    }
   ],
   "source": [
    "fig, ax = plt.subplots(figsize=(12,7))\n",
    "\n",
    "ax.boxplot(results)\n",
    "plt.xticks([1, 2, 3, 4, 5, 6], ['KNN', 'DT', 'RF', 'MLP', 'BG', 'VT'])\n",
    "# plt.savefig('boxplot_results.png')\n",
    "plt.show()"
   ]
  },
  {
   "cell_type": "markdown",
   "metadata": {},
   "source": [
    "### Avaliação no conjunto de treino"
   ]
  },
  {
   "cell_type": "code",
   "execution_count": 25,
   "metadata": {},
   "outputs": [
    {
     "name": "stdout",
     "output_type": "stream",
     "text": [
      "Accuracy: 0.778\n",
      "              precision    recall  f1-score   support\n",
      "\n",
      "           1       0.69      1.00      0.82        18\n",
      "           2       0.80      0.63      0.71        19\n",
      "           3       1.00      0.50      0.67         4\n",
      "           5       0.50      0.33      0.40         3\n",
      "           6       1.00      0.50      0.67         2\n",
      "           7       1.00      1.00      1.00         8\n",
      "\n",
      "   micro avg       0.78      0.78      0.78        54\n",
      "   macro avg       0.83      0.66      0.71        54\n",
      "weighted avg       0.80      0.78      0.77        54\n",
      "\n"
     ]
    },
    {
     "data": {
      "image/png": "[encoded data removed]",
      "text/plain": [
       "<Figure size 432x288 with 2 Axes>"
      ]
     },
     "metadata": {},
     "output_type": "display_data"
    }
   ],
   "source": [
    "voting = VotingClassifier(estimators=[('knn', knn), ('tree', tree), ('forest', forest), ('mlp', mlp)])\n",
    "voting.fit(X_train, y_train)\n",
    "\n",
    "pred = voting.predict(X_test)\n",
    "\n",
    "print('Accuracy: %.5f' % accuracy_score(y_test, pred))\n",
    "print(classification_report(y_test, pred))\n",
    "\n",
    "sns.set(font_scale=1)\n",
    "sns.heatmap(confusion_matrix(y_test, pred), annot=True, cmap='Blues')\n",
    "# plt.savefig('confusion_matrix_voting.png')"
   ]
  }
 ],
 "metadata": {
  "kernelspec": {
   "display_name": "Python 3",
   "language": "python",
   "name": "python3"
  },
  "language_info": {
   "codemirror_mode": {
    "name": "ipython",
    "version": 3
   },
   "file_extension": ".py",
   "mimetype": "text/x-python",
   "name": "python",
   "nbconvert_exporter": "python",
   "pygments_lexer": "ipython3",
   "version": "3.7.3"
  }
 },
 "nbformat": 4,
 "nbformat_minor": 2
}
